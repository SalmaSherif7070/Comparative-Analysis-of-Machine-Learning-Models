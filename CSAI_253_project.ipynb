{
  "nbformat": 4,
  "nbformat_minor": 0,
  "metadata": {
    "colab": {
      "provenance": [],
      "authorship_tag": "ABX9TyM+qMgpo3HSOk7oL41dxRcJ",
      "include_colab_link": true
    },
    "kernelspec": {
      "name": "python3",
      "display_name": "Python 3"
    },
    "language_info": {
      "name": "python"
    }
  },
  "cells": [
    {
      "cell_type": "markdown",
      "metadata": {
        "id": "view-in-github",
        "colab_type": "text"
      },
      "source": [
        "<a href=\"https://colab.research.google.com/github/SalmaSherif7070/Comparative-Analysis-of-Machine-Learning-Models/blob/main/CSAI_253_project.ipynb\" target=\"_parent\"><img src=\"https://colab.research.google.com/assets/colab-badge.svg\" alt=\"Open In Colab\"/></a>"
      ]
    },
    {
      "cell_type": "markdown",
      "source": [
        "# Importing"
      ],
      "metadata": {
        "id": "l16app-OA84Q"
      }
    },
    {
      "cell_type": "code",
      "execution_count": null,
      "metadata": {
        "colab": {
          "base_uri": "https://localhost:8080/"
        },
        "id": "ZO0-0MfGg8ql",
        "outputId": "52605371-acfe-4cb3-830d-f91090a68d11"
      },
      "outputs": [
        {
          "output_type": "stream",
          "name": "stdout",
          "text": [
            "Requirement already satisfied: neptune-client==1.2.0 in /usr/local/lib/python3.10/dist-packages (1.2.0)\n",
            "Requirement already satisfied: GitPython>=2.0.8 in /usr/local/lib/python3.10/dist-packages (from neptune-client==1.2.0) (3.1.43)\n",
            "Requirement already satisfied: Pillow>=1.1.6 in /usr/local/lib/python3.10/dist-packages (from neptune-client==1.2.0) (9.4.0)\n",
            "Requirement already satisfied: PyJWT in /usr/lib/python3/dist-packages (from neptune-client==1.2.0) (2.3.0)\n",
            "Requirement already satisfied: boto3>=1.16.0 in /usr/local/lib/python3.10/dist-packages (from neptune-client==1.2.0) (1.34.103)\n",
            "Requirement already satisfied: bravado<12.0.0,>=11.0.0 in /usr/local/lib/python3.10/dist-packages (from neptune-client==1.2.0) (11.0.3)\n",
            "Requirement already satisfied: click>=7.0 in /usr/local/lib/python3.10/dist-packages (from neptune-client==1.2.0) (8.1.7)\n",
            "Requirement already satisfied: future>=0.17.1 in /usr/local/lib/python3.10/dist-packages (from neptune-client==1.2.0) (0.18.3)\n",
            "Requirement already satisfied: oauthlib>=2.1.0 in /usr/local/lib/python3.10/dist-packages (from neptune-client==1.2.0) (3.2.2)\n",
            "Requirement already satisfied: packaging in /usr/local/lib/python3.10/dist-packages (from neptune-client==1.2.0) (24.0)\n",
            "Requirement already satisfied: pandas in /usr/local/lib/python3.10/dist-packages (from neptune-client==1.2.0) (2.0.3)\n",
            "Requirement already satisfied: psutil in /usr/local/lib/python3.10/dist-packages (from neptune-client==1.2.0) (5.9.5)\n",
            "Requirement already satisfied: requests>=2.20.0 in /usr/local/lib/python3.10/dist-packages (from neptune-client==1.2.0) (2.31.0)\n",
            "Requirement already satisfied: requests-oauthlib>=1.0.0 in /usr/local/lib/python3.10/dist-packages (from neptune-client==1.2.0) (1.3.1)\n",
            "Requirement already satisfied: six>=1.12.0 in /usr/local/lib/python3.10/dist-packages (from neptune-client==1.2.0) (1.16.0)\n",
            "Requirement already satisfied: swagger-spec-validator>=2.7.4 in /usr/local/lib/python3.10/dist-packages (from neptune-client==1.2.0) (3.0.3)\n",
            "Requirement already satisfied: urllib3 in /usr/local/lib/python3.10/dist-packages (from neptune-client==1.2.0) (2.0.7)\n",
            "Requirement already satisfied: websocket-client!=1.0.0,>=0.35.0 in /usr/local/lib/python3.10/dist-packages (from neptune-client==1.2.0) (1.8.0)\n",
            "Requirement already satisfied: botocore<1.35.0,>=1.34.103 in /usr/local/lib/python3.10/dist-packages (from boto3>=1.16.0->neptune-client==1.2.0) (1.34.103)\n",
            "Requirement already satisfied: jmespath<2.0.0,>=0.7.1 in /usr/local/lib/python3.10/dist-packages (from boto3>=1.16.0->neptune-client==1.2.0) (1.0.1)\n",
            "Requirement already satisfied: s3transfer<0.11.0,>=0.10.0 in /usr/local/lib/python3.10/dist-packages (from boto3>=1.16.0->neptune-client==1.2.0) (0.10.1)\n",
            "Requirement already satisfied: bravado-core>=5.16.1 in /usr/local/lib/python3.10/dist-packages (from bravado<12.0.0,>=11.0.0->neptune-client==1.2.0) (6.1.1)\n",
            "Requirement already satisfied: msgpack in /usr/local/lib/python3.10/dist-packages (from bravado<12.0.0,>=11.0.0->neptune-client==1.2.0) (1.0.8)\n",
            "Requirement already satisfied: python-dateutil in /usr/local/lib/python3.10/dist-packages (from bravado<12.0.0,>=11.0.0->neptune-client==1.2.0) (2.8.2)\n",
            "Requirement already satisfied: pyyaml in /usr/local/lib/python3.10/dist-packages (from bravado<12.0.0,>=11.0.0->neptune-client==1.2.0) (6.0.1)\n",
            "Requirement already satisfied: simplejson in /usr/local/lib/python3.10/dist-packages (from bravado<12.0.0,>=11.0.0->neptune-client==1.2.0) (3.19.2)\n",
            "Requirement already satisfied: monotonic in /usr/local/lib/python3.10/dist-packages (from bravado<12.0.0,>=11.0.0->neptune-client==1.2.0) (1.6)\n",
            "Requirement already satisfied: typing-extensions in /usr/local/lib/python3.10/dist-packages (from bravado<12.0.0,>=11.0.0->neptune-client==1.2.0) (4.11.0)\n",
            "Requirement already satisfied: gitdb<5,>=4.0.1 in /usr/local/lib/python3.10/dist-packages (from GitPython>=2.0.8->neptune-client==1.2.0) (4.0.11)\n",
            "Requirement already satisfied: charset-normalizer<4,>=2 in /usr/local/lib/python3.10/dist-packages (from requests>=2.20.0->neptune-client==1.2.0) (3.3.2)\n",
            "Requirement already satisfied: idna<4,>=2.5 in /usr/local/lib/python3.10/dist-packages (from requests>=2.20.0->neptune-client==1.2.0) (3.7)\n",
            "Requirement already satisfied: certifi>=2017.4.17 in /usr/local/lib/python3.10/dist-packages (from requests>=2.20.0->neptune-client==1.2.0) (2024.2.2)\n",
            "Requirement already satisfied: jsonschema in /usr/local/lib/python3.10/dist-packages (from swagger-spec-validator>=2.7.4->neptune-client==1.2.0) (4.19.2)\n",
            "Requirement already satisfied: pytz>=2020.1 in /usr/local/lib/python3.10/dist-packages (from pandas->neptune-client==1.2.0) (2023.4)\n",
            "Requirement already satisfied: tzdata>=2022.1 in /usr/local/lib/python3.10/dist-packages (from pandas->neptune-client==1.2.0) (2024.1)\n",
            "Requirement already satisfied: numpy>=1.21.0 in /usr/local/lib/python3.10/dist-packages (from pandas->neptune-client==1.2.0) (1.25.2)\n",
            "Requirement already satisfied: jsonref in /usr/local/lib/python3.10/dist-packages (from bravado-core>=5.16.1->bravado<12.0.0,>=11.0.0->neptune-client==1.2.0) (1.1.0)\n",
            "Requirement already satisfied: smmap<6,>=3.0.1 in /usr/local/lib/python3.10/dist-packages (from gitdb<5,>=4.0.1->GitPython>=2.0.8->neptune-client==1.2.0) (5.0.1)\n",
            "Requirement already satisfied: attrs>=22.2.0 in /usr/local/lib/python3.10/dist-packages (from jsonschema->swagger-spec-validator>=2.7.4->neptune-client==1.2.0) (23.2.0)\n",
            "Requirement already satisfied: jsonschema-specifications>=2023.03.6 in /usr/local/lib/python3.10/dist-packages (from jsonschema->swagger-spec-validator>=2.7.4->neptune-client==1.2.0) (2023.12.1)\n",
            "Requirement already satisfied: referencing>=0.28.4 in /usr/local/lib/python3.10/dist-packages (from jsonschema->swagger-spec-validator>=2.7.4->neptune-client==1.2.0) (0.35.1)\n",
            "Requirement already satisfied: rpds-py>=0.7.1 in /usr/local/lib/python3.10/dist-packages (from jsonschema->swagger-spec-validator>=2.7.4->neptune-client==1.2.0) (0.18.1)\n",
            "Requirement already satisfied: fqdn in /usr/local/lib/python3.10/dist-packages (from jsonschema->swagger-spec-validator>=2.7.4->neptune-client==1.2.0) (1.5.1)\n",
            "Requirement already satisfied: isoduration in /usr/local/lib/python3.10/dist-packages (from jsonschema->swagger-spec-validator>=2.7.4->neptune-client==1.2.0) (20.11.0)\n",
            "Requirement already satisfied: jsonpointer>1.13 in /usr/local/lib/python3.10/dist-packages (from jsonschema->swagger-spec-validator>=2.7.4->neptune-client==1.2.0) (2.4)\n",
            "Requirement already satisfied: rfc3339-validator in /usr/local/lib/python3.10/dist-packages (from jsonschema->swagger-spec-validator>=2.7.4->neptune-client==1.2.0) (0.1.4)\n",
            "Requirement already satisfied: rfc3986-validator>0.1.0 in /usr/local/lib/python3.10/dist-packages (from jsonschema->swagger-spec-validator>=2.7.4->neptune-client==1.2.0) (0.1.1)\n",
            "Requirement already satisfied: uri-template in /usr/local/lib/python3.10/dist-packages (from jsonschema->swagger-spec-validator>=2.7.4->neptune-client==1.2.0) (1.3.0)\n",
            "Requirement already satisfied: webcolors>=1.11 in /usr/local/lib/python3.10/dist-packages (from jsonschema->swagger-spec-validator>=2.7.4->neptune-client==1.2.0) (1.13)\n",
            "Requirement already satisfied: arrow>=0.15.0 in /usr/local/lib/python3.10/dist-packages (from isoduration->jsonschema->swagger-spec-validator>=2.7.4->neptune-client==1.2.0) (1.3.0)\n",
            "Requirement already satisfied: types-python-dateutil>=2.8.10 in /usr/local/lib/python3.10/dist-packages (from arrow>=0.15.0->isoduration->jsonschema->swagger-spec-validator>=2.7.4->neptune-client==1.2.0) (2.9.0.20240316)\n",
            "Requirement already satisfied: opendatasets in /usr/local/lib/python3.10/dist-packages (0.1.22)\n",
            "Requirement already satisfied: tqdm in /usr/local/lib/python3.10/dist-packages (from opendatasets) (4.66.4)\n",
            "Requirement already satisfied: kaggle in /usr/local/lib/python3.10/dist-packages (from opendatasets) (1.6.12)\n",
            "Requirement already satisfied: click in /usr/local/lib/python3.10/dist-packages (from opendatasets) (8.1.7)\n",
            "Requirement already satisfied: six>=1.10 in /usr/local/lib/python3.10/dist-packages (from kaggle->opendatasets) (1.16.0)\n",
            "Requirement already satisfied: certifi>=2023.7.22 in /usr/local/lib/python3.10/dist-packages (from kaggle->opendatasets) (2024.2.2)\n",
            "Requirement already satisfied: python-dateutil in /usr/local/lib/python3.10/dist-packages (from kaggle->opendatasets) (2.8.2)\n",
            "Requirement already satisfied: requests in /usr/local/lib/python3.10/dist-packages (from kaggle->opendatasets) (2.31.0)\n",
            "Requirement already satisfied: python-slugify in /usr/local/lib/python3.10/dist-packages (from kaggle->opendatasets) (8.0.4)\n",
            "Requirement already satisfied: urllib3 in /usr/local/lib/python3.10/dist-packages (from kaggle->opendatasets) (2.0.7)\n",
            "Requirement already satisfied: bleach in /usr/local/lib/python3.10/dist-packages (from kaggle->opendatasets) (6.1.0)\n",
            "Requirement already satisfied: webencodings in /usr/local/lib/python3.10/dist-packages (from bleach->kaggle->opendatasets) (0.5.1)\n",
            "Requirement already satisfied: text-unidecode>=1.3 in /usr/local/lib/python3.10/dist-packages (from python-slugify->kaggle->opendatasets) (1.3)\n",
            "Requirement already satisfied: charset-normalizer<4,>=2 in /usr/local/lib/python3.10/dist-packages (from requests->kaggle->opendatasets) (3.3.2)\n",
            "Requirement already satisfied: idna<4,>=2.5 in /usr/local/lib/python3.10/dist-packages (from requests->kaggle->opendatasets) (3.7)\n"
          ]
        }
      ],
      "source": [
        "!pip install --quiet kaggle\n",
        "!pip3 install neptune-client==1.2.0\n",
        "!pip install opendatasets"
      ]
    },
    {
      "cell_type": "code",
      "source": [
        "import opendatasets as od\n",
        "import json\n",
        "import numpy as np\n",
        "import pandas as pd\n",
        "import matplotlib.pyplot as plt\n",
        "from sklearn.decomposition import PCA\n",
        "from sklearn.preprocessing import StandardScaler\n",
        "from sklearn.model_selection import train_test_split\n",
        "from collections import Counter\n",
        "from sklearn.metrics import accuracy_score\n",
        "from sklearn.neighbors import KNeighborsClassifier\n",
        "from sklearn.metrics import accuracy_score, classification_report\n",
        "from sklearn.svm import SVC\n",
        "from sklearn.metrics import mean_squared_error, mean_absolute_error\n",
        "from sklearn.model_selection import GridSearchCV, StratifiedShuffleSplit\n",
        "from sklearn.svm import SVC\n",
        "from sklearn import metrics\n",
        "from keras.layers import Dense\n",
        "from keras.optimizers import SGD, Adam\n",
        "from keras.models import Sequential\n",
        "from sklearn.linear_model import LogisticRegression\n",
        "import tensorflow as tf\n",
        "from keras.utils import to_categorical\n",
        "from sklearn.metrics import accuracy_score\n",
        "from sklearn.model_selection import cross_val_score\n",
        "from sklearn.model_selection import KFold\n",
        "from sklearn.preprocessing import PolynomialFeatures\n",
        "from sklearn.metrics import mean_squared_error\n",
        "from sklearn.linear_model import LinearRegression"
      ],
      "metadata": {
        "id": "g4cHc5QhhCzM"
      },
      "execution_count": null,
      "outputs": []
    },
    {
      "cell_type": "markdown",
      "source": [
        "# Prepere the data set"
      ],
      "metadata": {
        "id": "WMcPswl5BCM5"
      }
    },
    {
      "cell_type": "code",
      "source": [
        "with open('kaggle.json', 'w') as f:\n",
        "        json.dump({\"username\":\"salmasherif202200622\",\"key\":\"229b193e95c2e1ca70b462cf1507b94c\"}, f)"
      ],
      "metadata": {
        "id": "OgnhcS3VhGNt"
      },
      "execution_count": null,
      "outputs": []
    },
    {
      "cell_type": "code",
      "source": [
        "od.download('https://www.kaggle.com/datasets/gaurav2022/mobile-health/data')"
      ],
      "metadata": {
        "colab": {
          "base_uri": "https://localhost:8080/"
        },
        "id": "U-D3YdWthIC1",
        "outputId": "40e34009-4891-4fe3-f94c-756147df1a9d"
      },
      "execution_count": null,
      "outputs": [
        {
          "output_type": "stream",
          "name": "stdout",
          "text": [
            "Skipping, found downloaded files in \"./mobile-health\" (use force=True to force download)\n"
          ]
        }
      ]
    },
    {
      "cell_type": "code",
      "source": [
        "df = pd.read_csv('/content/mobile-health/mhealth_raw_data.csv')"
      ],
      "metadata": {
        "id": "Mo6Ig5gZhJ0z"
      },
      "execution_count": null,
      "outputs": []
    },
    {
      "cell_type": "code",
      "source": [
        "n_samples = min(df['Activity'].value_counts().tolist())\n",
        "df = df.groupby('Activity', group_keys=False).apply(lambda x: x.sample(min(len(x), n_samples)))\n",
        "df.reset_index(drop=True, inplace=True)\n",
        "\n",
        "# Verify the result\n",
        "print(df['Activity'].value_counts())"
      ],
      "metadata": {
        "colab": {
          "base_uri": "https://localhost:8080/"
        },
        "id": "7UGGA2pURqUg",
        "outputId": "3c299acc-3578-4b56-a9e6-3a822646f00e"
      },
      "execution_count": null,
      "outputs": [
        {
          "output_type": "stream",
          "name": "stdout",
          "text": [
            "Activity\n",
            "0     10342\n",
            "1     10342\n",
            "2     10342\n",
            "3     10342\n",
            "4     10342\n",
            "5     10342\n",
            "6     10342\n",
            "7     10342\n",
            "8     10342\n",
            "9     10342\n",
            "10    10342\n",
            "11    10342\n",
            "12    10342\n",
            "Name: count, dtype: int64\n"
          ]
        }
      ]
    },
    {
      "cell_type": "code",
      "source": [
        "X_train, X_test, y_train, y_test = train_test_split(df.iloc[:, :-2].values, df.iloc[:, -2].values, test_size=0.2, random_state=42)"
      ],
      "metadata": {
        "id": "dOPzsoOUDSro"
      },
      "execution_count": null,
      "outputs": []
    },
    {
      "cell_type": "markdown",
      "source": [
        "# Dataset Exploration"
      ],
      "metadata": {
        "id": "2twd6ENxBKJv"
      }
    },
    {
      "cell_type": "code",
      "source": [
        "df_visualization = df.sample(frac=0.005, random_state=42)\n",
        "x = df_visualization.iloc[:, :-2].values\n",
        "y = df_visualization.iloc[:, -2].values\n",
        "# Standardizing the features\n",
        "x = StandardScaler().fit_transform(x)\n",
        "\n",
        "# Performing PCA\n",
        "pca = PCA(n_components=2)\n",
        "principalComponents = pca.fit_transform(x)\n",
        "\n",
        "# Creating a DataFrame with the principal components\n",
        "df_pca = pd.DataFrame(data = principalComponents, columns = ['PC1', 'PC2'])\n",
        "\n",
        "# Visualizing the first two principal components\n",
        "plt.figure(figsize=(8,6))\n",
        "plt.scatter(df_pca['PC1'], df_pca['PC2'], c=y, cmap='viridis')\n",
        "plt.colorbar(label='Class')\n",
        "plt.xlabel('Principal Component 1')\n",
        "plt.ylabel('Principal Component 2')\n",
        "plt.title('2D PCA of mHealth Data')\n",
        "plt.show()"
      ],
      "metadata": {
        "colab": {
          "base_uri": "https://localhost:8080/"
        },
        "id": "88ac3Msz6gVC",
        "outputId": "df293cc6-321c-4c23-b989-a190dbff428f"
      },
      "execution_count": null,
      "outputs": [
        {
          "output_type": "display_data",
          "data": {
            "text/plain": [
              "<Figure size 800x600 with 2 Axes>"
            ],
            "image/png": "[encoded data removed]"
          },
          "metadata": {}
        }
      ]
    },
    {
      "cell_type": "markdown",
      "source": [
        "# Model Training and Evaluation"
      ],
      "metadata": {
        "id": "N6nfWpqcBS8t"
      }
    },
    {
      "cell_type": "code",
      "source": [
        "def Evaluate(y_test, y_pred, model):\n",
        "  print(\"Confusion Matrix: \\n\", metrics.confusion_matrix(y_test, y_pred))\n",
        "  print(\"Classification Report \\n\", metrics.classification_report(y_test, y_pred, digits=3))\n",
        "  scores = cross_val_score(model, X_train, y_train, cv=5)\n",
        "  print('Cross-Validation ', scores.mean())\n",
        "  return scores"
      ],
      "metadata": {
        "id": "40QfjXA2W_wZ"
      },
      "execution_count": null,
      "outputs": []
    },
    {
      "cell_type": "markdown",
      "source": [
        "KNN"
      ],
      "metadata": {
        "id": "9Y7VdisYBrXT"
      }
    },
    {
      "cell_type": "code",
      "source": [
        "# train\n",
        "k = 3\n",
        "knn = KNeighborsClassifier(n_neighbors=k)\n",
        "knn.fit(X_train, y_train)\n",
        "\n",
        "# predict\n",
        "y_pred = knn.predict(X_test)\n",
        "\n",
        "# test\n",
        "accuracy = accuracy_score(y_test, y_pred)\n",
        "print(f'Accuracy: {accuracy}')\n",
        "\n",
        "# Evaluate\n",
        "Evaluate(y_test, y_pred, knn)"
      ],
      "metadata": {
        "colab": {
          "base_uri": "https://localhost:8080/"
        },
        "id": "g6wbjlil_Rqn",
        "outputId": "903fd783-52e8-47dc-b9a8-57d2d8bcb6a1"
      },
      "execution_count": null,
      "outputs": [
        {
          "output_type": "stream",
          "name": "stdout",
          "text": [
            "Accuracy: 0.8712904425436966\n",
            "Confusion Matrix: \n",
            " [[ 995   55   46   33  177  122   84  136  119  158   67   29   57]\n",
            " [   0 2033    0    0    0    0    2    0    0    0    0    0    0]\n",
            " [   3    0 2087    0    0    0    0    0    0    0    0    0    0]\n",
            " [   3    0    0 2102    0    0    0    0    0    0    0    0    0]\n",
            " [  61    0    0    0 1910   74   14    5   13    2    5    2    2]\n",
            " [ 118    2    2    0  189 1587   22    2   85    4   11    3    3]\n",
            " [  16    8    0    0    7    3 1987   39   36    0    1    0    0]\n",
            " [  17    2    0    0    3    1   10 2072   12    2    1    0    0]\n",
            " [  46    2    0    0   16   25   72   21 1860    4    1    1    0]\n",
            " [  51    0    2    0    8   25    4   11   14 1949    0    1    7]\n",
            " [  64    0    0    1   23   22    2    3    6    3 1727  162   79]\n",
            " [  57    0    0    0   26   17    1    3    3    2  263 1528   86]\n",
            " [ 101    0    0    0   16   16    1    4    8    4  167  142 1592]]\n",
            "Classification Report \n",
            "               precision    recall  f1-score   support\n",
            "\n",
            "           0      0.649     0.479     0.551      2078\n",
            "           1      0.967     0.999     0.983      2035\n",
            "           2      0.977     0.999     0.987      2090\n",
            "           3      0.984     0.999     0.991      2105\n",
            "           4      0.804     0.915     0.856      2088\n",
            "           5      0.839     0.783     0.810      2028\n",
            "           6      0.904     0.948     0.925      2097\n",
            "           7      0.902     0.977     0.938      2120\n",
            "           8      0.863     0.908     0.885      2048\n",
            "           9      0.916     0.941     0.928      2072\n",
            "          10      0.770     0.826     0.797      2092\n",
            "          11      0.818     0.769     0.793      1986\n",
            "          12      0.872     0.776     0.821      2051\n",
            "\n",
            "    accuracy                          0.871     26890\n",
            "   macro avg      0.867     0.871     0.867     26890\n",
            "weighted avg      0.867     0.871     0.867     26890\n",
            "\n",
            "Cross-Validation  0.8626576037731326\n"
          ]
        },
        {
          "output_type": "execute_result",
          "data": {
            "text/plain": [
              "array([0.86142618, 0.86262842, 0.86007159, 0.86485984, 0.86430199])"
            ]
          },
          "metadata": {},
          "execution_count": 10
        }
      ]
    },
    {
      "cell_type": "markdown",
      "source": [
        "SVM"
      ],
      "metadata": {
        "id": "uLGd4J7UDinL"
      }
    },
    {
      "cell_type": "code",
      "source": [
        "# Model\n",
        "clf = SVC(C=40, kernel='rbf', gamma = 0.01)\n",
        "\n",
        "# Train\n",
        "clf.fit(X_train, y_train)\n",
        "\n",
        "# Test\n",
        "y_pred = clf.predict(X_test)\n",
        "print(f'The Accuracy of the {clf} classifier is', accuracy_score(y_pred, y_test)*100, \" %\")\n",
        "\n",
        "# Evaluate\n",
        "Evaluate(y_test, y_pred, clf)"
      ],
      "metadata": {
        "id": "9JwG7Eec0xfu",
        "colab": {
          "base_uri": "https://localhost:8080/"
        },
        "outputId": "b41efec9-b01f-45c0-ca4b-709c1a23ad50"
      },
      "execution_count": null,
      "outputs": [
        {
          "output_type": "stream",
          "name": "stdout",
          "text": [
            "The Accuracy of the SVC(C=40, gamma=0.01) classifier is 89.88843436221644  %\n",
            "Confusion Matrix: \n",
            " [[ 996   98   46   33  145  156  100   87  138  131   43   31   74]\n",
            " [   5 2028    0    0    0    0    2    0    0    0    0    0    0]\n",
            " [   1    0 2089    0    0    0    0    0    0    0    0    0    0]\n",
            " [   0    0    0 2105    0    0    0    0    0    0    0    0    0]\n",
            " [  40    3    0    0 1957   50   14    2   17    2    1    1    1]\n",
            " [ 109    4    0    0  127 1669   15    2   93    1    3    0    5]\n",
            " [  32   21    0    0    6    4 1951   23   59    0    0    0    1]\n",
            " [  19   23    0    0    0    3   34 2023   17    1    0    0    0]\n",
            " [  31   19    0    0    7   35   53   18 1881    1    0    0    3]\n",
            " [  21    0    0    0    0   12    0    4    6 2028    0    1    0]\n",
            " [  21    0    0    0    2    9    0    0    1    0 1872  124   63]\n",
            " [  25    0    0    0    1    5    0    0    0    1   98 1788   68]\n",
            " [  77    0    0    0    5   13    1    0    1    0   92   78 1784]]\n",
            "Classification Report \n",
            "               precision    recall  f1-score   support\n",
            "\n",
            "           0      0.723     0.479     0.577      2078\n",
            "           1      0.923     0.997     0.959      2035\n",
            "           2      0.978     1.000     0.989      2090\n",
            "           3      0.985     1.000     0.992      2105\n",
            "           4      0.870     0.937     0.902      2088\n",
            "           5      0.853     0.823     0.838      2028\n",
            "           6      0.899     0.930     0.914      2097\n",
            "           7      0.937     0.954     0.946      2120\n",
            "           8      0.850     0.918     0.883      2048\n",
            "           9      0.937     0.979     0.957      2072\n",
            "          10      0.888     0.895     0.891      2092\n",
            "          11      0.884     0.900     0.892      1986\n",
            "          12      0.892     0.870     0.881      2051\n",
            "\n",
            "    accuracy                          0.899     26890\n",
            "   macro avg      0.894     0.899     0.894     26890\n",
            "weighted avg      0.894     0.899     0.894     26890\n",
            "\n",
            "Cross-Validation  0.8947153124404045\n"
          ]
        },
        {
          "output_type": "execute_result",
          "data": {
            "text/plain": [
              "array([0.89457047, 0.89526289, 0.89391474, 0.8948445 , 0.89498396])"
            ]
          },
          "metadata": {},
          "execution_count": 12
        }
      ]
    },
    {
      "cell_type": "markdown",
      "source": [
        "Neural Network"
      ],
      "metadata": {
        "id": "vLwFW9cBJrg-"
      }
    },
    {
      "cell_type": "code",
      "source": [
        "# Model\n",
        "model = tf.keras.models.Sequential([\n",
        "    tf.keras.layers.Input(shape=[12]),\n",
        "    tf.keras.layers.Dense(units=64, activation=\"relu\"),\n",
        "    tf.keras.layers.Dense(units=64, activation=\"relu\"),\n",
        "    tf.keras.layers.Dense(units=128, activation=\"relu\"),\n",
        "    tf.keras.layers.Dense(units=13, activation=\"softmax\"),\n",
        "])\n",
        "optimizer = tf.keras.optimizers.Adam(learning_rate=0.001)\n",
        "model.compile(loss=\"sparse_categorical_crossentropy\", metrics=\"accuracy\", optimizer=optimizer)\n",
        "model.summary()\n",
        "\n",
        "# Train\n",
        "history = model.fit(X_train, y_train, epochs=100, validation_data=(X_test, y_test))"
      ],
      "metadata": {
        "colab": {
          "base_uri": "https://localhost:8080/"
        },
        "id": "q_nUoZMGaLCW",
        "outputId": "e028e402-f1d0-402e-baa8-dbe202aa5a4a"
      },
      "execution_count": null,
      "outputs": [
        {
          "output_type": "stream",
          "name": "stdout",
          "text": [
            "Model: \"sequential\"\n",
            "_________________________________________________________________\n",
            " Layer (type)                Output Shape              Param #   \n",
            "=================================================================\n",
            " dense (Dense)               (None, 64)                832       \n",
            "                                                                 \n",
            " dense_1 (Dense)             (None, 64)                4160      \n",
            "                                                                 \n",
            " dense_2 (Dense)             (None, 128)               8320      \n",
            "                                                                 \n",
            " dense_3 (Dense)             (None, 13)                1677      \n",
            "                                                                 \n",
            "=================================================================\n",
            "Total params: 14989 (58.55 KB)\n",
            "Trainable params: 14989 (58.55 KB)\n",
            "Non-trainable params: 0 (0.00 Byte)\n",
            "_________________________________________________________________\n",
            "Epoch 1/100\n",
            "3362/3362 [==============================] - 11s 3ms/step - loss: 0.7889 - accuracy: 0.7373 - val_loss: 0.5788 - val_accuracy: 0.8038\n",
            "Epoch 2/100\n",
            "3362/3362 [==============================] - 9s 3ms/step - loss: 0.4799 - accuracy: 0.8393 - val_loss: 0.4349 - val_accuracy: 0.8550\n",
            "Epoch 3/100\n",
            "3362/3362 [==============================] - 11s 3ms/step - loss: 0.4040 - accuracy: 0.8656 - val_loss: 0.3806 - val_accuracy: 0.8749\n",
            "Epoch 4/100\n",
            "3362/3362 [==============================] - 10s 3ms/step - loss: 0.3541 - accuracy: 0.8839 - val_loss: 0.3374 - val_accuracy: 0.8899\n",
            "Epoch 5/100\n",
            "3362/3362 [==============================] - 9s 3ms/step - loss: 0.3218 - accuracy: 0.8949 - val_loss: 0.3366 - val_accuracy: 0.8936\n",
            "Epoch 6/100\n",
            "3362/3362 [==============================] - 11s 3ms/step - loss: 0.2971 - accuracy: 0.9047 - val_loss: 0.3001 - val_accuracy: 0.9035\n",
            "Epoch 7/100\n",
            "3362/3362 [==============================] - 11s 3ms/step - loss: 0.2796 - accuracy: 0.9109 - val_loss: 0.2840 - val_accuracy: 0.9105\n",
            "Epoch 8/100\n",
            "3362/3362 [==============================] - 9s 3ms/step - loss: 0.2634 - accuracy: 0.9166 - val_loss: 0.2651 - val_accuracy: 0.9171\n",
            "Epoch 9/100\n",
            "3362/3362 [==============================] - 11s 3ms/step - loss: 0.2507 - accuracy: 0.9212 - val_loss: 0.2600 - val_accuracy: 0.9187\n",
            "Epoch 10/100\n",
            "3362/3362 [==============================] - 11s 3ms/step - loss: 0.2412 - accuracy: 0.9234 - val_loss: 0.2544 - val_accuracy: 0.9215\n",
            "Epoch 11/100\n",
            "3362/3362 [==============================] - 8s 2ms/step - loss: 0.2315 - accuracy: 0.9278 - val_loss: 0.2529 - val_accuracy: 0.9200\n",
            "Epoch 12/100\n",
            "3362/3362 [==============================] - 10s 3ms/step - loss: 0.2232 - accuracy: 0.9304 - val_loss: 0.2459 - val_accuracy: 0.9251\n",
            "Epoch 13/100\n",
            "3362/3362 [==============================] - 10s 3ms/step - loss: 0.2181 - accuracy: 0.9322 - val_loss: 0.2301 - val_accuracy: 0.9303\n",
            "Epoch 14/100\n",
            "3362/3362 [==============================] - 8s 2ms/step - loss: 0.2110 - accuracy: 0.9348 - val_loss: 0.2471 - val_accuracy: 0.9216\n",
            "Epoch 15/100\n",
            "3362/3362 [==============================] - 10s 3ms/step - loss: 0.2071 - accuracy: 0.9353 - val_loss: 0.2396 - val_accuracy: 0.9263\n",
            "Epoch 16/100\n",
            "3362/3362 [==============================] - 10s 3ms/step - loss: 0.2004 - accuracy: 0.9378 - val_loss: 0.2219 - val_accuracy: 0.9338\n",
            "Epoch 17/100\n",
            "3362/3362 [==============================] - 9s 3ms/step - loss: 0.1983 - accuracy: 0.9388 - val_loss: 0.2466 - val_accuracy: 0.9249\n",
            "Epoch 18/100\n",
            "3362/3362 [==============================] - 11s 3ms/step - loss: 0.1933 - accuracy: 0.9402 - val_loss: 0.2230 - val_accuracy: 0.9347\n",
            "Epoch 19/100\n",
            "3362/3362 [==============================] - 11s 3ms/step - loss: 0.1898 - accuracy: 0.9413 - val_loss: 0.2261 - val_accuracy: 0.9336\n",
            "Epoch 20/100\n",
            "3362/3362 [==============================] - 12s 4ms/step - loss: 0.1866 - accuracy: 0.9426 - val_loss: 0.2290 - val_accuracy: 0.9315\n",
            "Epoch 21/100\n",
            "3362/3362 [==============================] - 9s 3ms/step - loss: 0.1837 - accuracy: 0.9436 - val_loss: 0.2163 - val_accuracy: 0.9372\n",
            "Epoch 22/100\n",
            "3362/3362 [==============================] - 11s 3ms/step - loss: 0.1807 - accuracy: 0.9446 - val_loss: 0.2184 - val_accuracy: 0.9358\n",
            "Epoch 23/100\n",
            "3362/3362 [==============================] - 10s 3ms/step - loss: 0.1784 - accuracy: 0.9451 - val_loss: 0.2075 - val_accuracy: 0.9374\n",
            "Epoch 24/100\n",
            "3362/3362 [==============================] - 9s 3ms/step - loss: 0.1744 - accuracy: 0.9460 - val_loss: 0.2182 - val_accuracy: 0.9360\n",
            "Epoch 25/100\n",
            "3362/3362 [==============================] - 10s 3ms/step - loss: 0.1732 - accuracy: 0.9463 - val_loss: 0.2169 - val_accuracy: 0.9371\n",
            "Epoch 26/100\n",
            "3362/3362 [==============================] - 10s 3ms/step - loss: 0.1704 - accuracy: 0.9476 - val_loss: 0.2040 - val_accuracy: 0.9410\n",
            "Epoch 27/100\n",
            "3362/3362 [==============================] - 9s 3ms/step - loss: 0.1676 - accuracy: 0.9483 - val_loss: 0.2124 - val_accuracy: 0.9380\n",
            "Epoch 28/100\n",
            "3362/3362 [==============================] - 10s 3ms/step - loss: 0.1655 - accuracy: 0.9488 - val_loss: 0.2062 - val_accuracy: 0.9402\n",
            "Epoch 29/100\n",
            "3362/3362 [==============================] - 11s 3ms/step - loss: 0.1626 - accuracy: 0.9501 - val_loss: 0.2123 - val_accuracy: 0.9382\n",
            "Epoch 30/100\n",
            "3362/3362 [==============================] - 9s 3ms/step - loss: 0.1613 - accuracy: 0.9505 - val_loss: 0.2082 - val_accuracy: 0.9397\n",
            "Epoch 31/100\n",
            "3362/3362 [==============================] - 11s 3ms/step - loss: 0.1596 - accuracy: 0.9509 - val_loss: 0.2016 - val_accuracy: 0.9427\n",
            "Epoch 32/100\n",
            "3362/3362 [==============================] - 11s 3ms/step - loss: 0.1588 - accuracy: 0.9510 - val_loss: 0.2076 - val_accuracy: 0.9410\n",
            "Epoch 33/100\n",
            "3362/3362 [==============================] - 9s 3ms/step - loss: 0.1574 - accuracy: 0.9516 - val_loss: 0.2165 - val_accuracy: 0.9383\n",
            "Epoch 34/100\n",
            "3362/3362 [==============================] - 11s 3ms/step - loss: 0.1565 - accuracy: 0.9515 - val_loss: 0.1992 - val_accuracy: 0.9430\n",
            "Epoch 35/100\n",
            "3362/3362 [==============================] - 10s 3ms/step - loss: 0.1545 - accuracy: 0.9526 - val_loss: 0.2124 - val_accuracy: 0.9399\n",
            "Epoch 36/100\n",
            "3362/3362 [==============================] - 9s 3ms/step - loss: 0.1542 - accuracy: 0.9531 - val_loss: 0.2261 - val_accuracy: 0.9340\n",
            "Epoch 37/100\n",
            "3362/3362 [==============================] - 11s 3ms/step - loss: 0.1518 - accuracy: 0.9533 - val_loss: 0.2013 - val_accuracy: 0.9441\n",
            "Epoch 38/100\n",
            "3362/3362 [==============================] - 13s 4ms/step - loss: 0.1506 - accuracy: 0.9534 - val_loss: 0.2086 - val_accuracy: 0.9399\n",
            "Epoch 39/100\n",
            "3362/3362 [==============================] - 13s 4ms/step - loss: 0.1498 - accuracy: 0.9540 - val_loss: 0.1985 - val_accuracy: 0.9431\n",
            "Epoch 40/100\n",
            "3362/3362 [==============================] - 13s 4ms/step - loss: 0.1475 - accuracy: 0.9554 - val_loss: 0.2287 - val_accuracy: 0.9321\n",
            "Epoch 41/100\n",
            "3362/3362 [==============================] - 10s 3ms/step - loss: 0.1489 - accuracy: 0.9543 - val_loss: 0.2280 - val_accuracy: 0.9351\n",
            "Epoch 42/100\n",
            "3362/3362 [==============================] - 11s 3ms/step - loss: 0.1469 - accuracy: 0.9551 - val_loss: 0.2009 - val_accuracy: 0.9442\n",
            "Epoch 43/100\n",
            "3362/3362 [==============================] - 10s 3ms/step - loss: 0.1452 - accuracy: 0.9555 - val_loss: 0.2115 - val_accuracy: 0.9407\n",
            "Epoch 44/100\n",
            "3362/3362 [==============================] - 9s 3ms/step - loss: 0.1446 - accuracy: 0.9556 - val_loss: 0.2146 - val_accuracy: 0.9380\n",
            "Epoch 45/100\n",
            "3362/3362 [==============================] - 11s 3ms/step - loss: 0.1446 - accuracy: 0.9561 - val_loss: 0.2058 - val_accuracy: 0.9432\n",
            "Epoch 46/100\n",
            "3362/3362 [==============================] - 11s 3ms/step - loss: 0.1427 - accuracy: 0.9560 - val_loss: 0.2032 - val_accuracy: 0.9453\n",
            "Epoch 47/100\n",
            "3362/3362 [==============================] - 9s 3ms/step - loss: 0.1406 - accuracy: 0.9572 - val_loss: 0.2057 - val_accuracy: 0.9437\n",
            "Epoch 48/100\n",
            "3362/3362 [==============================] - 11s 3ms/step - loss: 0.1414 - accuracy: 0.9570 - val_loss: 0.2119 - val_accuracy: 0.9399\n",
            "Epoch 49/100\n",
            "3362/3362 [==============================] - 11s 3ms/step - loss: 0.1399 - accuracy: 0.9570 - val_loss: 0.2171 - val_accuracy: 0.9393\n",
            "Epoch 50/100\n",
            "3362/3362 [==============================] - 9s 3ms/step - loss: 0.1391 - accuracy: 0.9582 - val_loss: 0.2219 - val_accuracy: 0.9383\n",
            "Epoch 51/100\n",
            "3362/3362 [==============================] - 11s 3ms/step - loss: 0.1386 - accuracy: 0.9577 - val_loss: 0.2051 - val_accuracy: 0.9456\n",
            "Epoch 52/100\n",
            "3362/3362 [==============================] - 12s 4ms/step - loss: 0.1378 - accuracy: 0.9578 - val_loss: 0.2150 - val_accuracy: 0.9425\n",
            "Epoch 53/100\n",
            "3362/3362 [==============================] - 10s 3ms/step - loss: 0.1361 - accuracy: 0.9582 - val_loss: 0.2048 - val_accuracy: 0.9450\n",
            "Epoch 54/100\n",
            "3362/3362 [==============================] - 10s 3ms/step - loss: 0.1355 - accuracy: 0.9587 - val_loss: 0.2187 - val_accuracy: 0.9418\n",
            "Epoch 55/100\n",
            "3362/3362 [==============================] - 11s 3ms/step - loss: 0.1369 - accuracy: 0.9582 - val_loss: 0.2140 - val_accuracy: 0.9443\n",
            "Epoch 56/100\n",
            "3362/3362 [==============================] - 11s 3ms/step - loss: 0.1347 - accuracy: 0.9587 - val_loss: 0.2135 - val_accuracy: 0.9418\n",
            "Epoch 57/100\n",
            "3362/3362 [==============================] - 9s 3ms/step - loss: 0.1345 - accuracy: 0.9589 - val_loss: 0.2135 - val_accuracy: 0.9444\n",
            "Epoch 58/100\n",
            "3362/3362 [==============================] - 11s 3ms/step - loss: 0.1343 - accuracy: 0.9595 - val_loss: 0.2163 - val_accuracy: 0.9433\n",
            "Epoch 59/100\n",
            "3362/3362 [==============================] - 11s 3ms/step - loss: 0.1325 - accuracy: 0.9593 - val_loss: 0.2052 - val_accuracy: 0.9467\n",
            "Epoch 60/100\n",
            "3362/3362 [==============================] - 9s 3ms/step - loss: 0.1323 - accuracy: 0.9600 - val_loss: 0.2133 - val_accuracy: 0.9447\n",
            "Epoch 61/100\n",
            "3362/3362 [==============================] - 13s 4ms/step - loss: 0.1310 - accuracy: 0.9604 - val_loss: 0.2136 - val_accuracy: 0.9437\n",
            "Epoch 62/100\n",
            "3362/3362 [==============================] - 11s 3ms/step - loss: 0.1327 - accuracy: 0.9598 - val_loss: 0.2034 - val_accuracy: 0.9450\n",
            "Epoch 63/100\n",
            "3362/3362 [==============================] - 11s 3ms/step - loss: 0.1296 - accuracy: 0.9603 - val_loss: 0.2143 - val_accuracy: 0.9432\n",
            "Epoch 64/100\n",
            "3362/3362 [==============================] - 10s 3ms/step - loss: 0.1297 - accuracy: 0.9605 - val_loss: 0.2216 - val_accuracy: 0.9435\n",
            "Epoch 65/100\n",
            "3362/3362 [==============================] - 11s 3ms/step - loss: 0.1295 - accuracy: 0.9610 - val_loss: 0.2057 - val_accuracy: 0.9467\n",
            "Epoch 66/100\n",
            "3362/3362 [==============================] - 11s 3ms/step - loss: 0.1281 - accuracy: 0.9606 - val_loss: 0.2067 - val_accuracy: 0.9467\n",
            "Epoch 67/100\n",
            "3362/3362 [==============================] - 9s 3ms/step - loss: 0.1276 - accuracy: 0.9611 - val_loss: 0.2163 - val_accuracy: 0.9421\n",
            "Epoch 68/100\n",
            "3362/3362 [==============================] - 11s 3ms/step - loss: 0.1283 - accuracy: 0.9612 - val_loss: 0.2022 - val_accuracy: 0.9469\n",
            "Epoch 69/100\n",
            "3362/3362 [==============================] - 11s 3ms/step - loss: 0.1265 - accuracy: 0.9624 - val_loss: 0.2143 - val_accuracy: 0.9458\n",
            "Epoch 70/100\n",
            "3362/3362 [==============================] - 9s 3ms/step - loss: 0.1252 - accuracy: 0.9625 - val_loss: 0.2083 - val_accuracy: 0.9450\n",
            "Epoch 71/100\n",
            "3362/3362 [==============================] - 11s 3ms/step - loss: 0.1263 - accuracy: 0.9616 - val_loss: 0.2153 - val_accuracy: 0.9431\n",
            "Epoch 72/100\n",
            "3362/3362 [==============================] - 11s 3ms/step - loss: 0.1257 - accuracy: 0.9623 - val_loss: 0.2266 - val_accuracy: 0.9411\n",
            "Epoch 73/100\n",
            "3362/3362 [==============================] - 9s 3ms/step - loss: 0.1242 - accuracy: 0.9624 - val_loss: 0.2196 - val_accuracy: 0.9450\n",
            "Epoch 74/100\n",
            "3362/3362 [==============================] - 11s 3ms/step - loss: 0.1258 - accuracy: 0.9618 - val_loss: 0.2064 - val_accuracy: 0.9463\n",
            "Epoch 75/100\n",
            "3362/3362 [==============================] - 11s 3ms/step - loss: 0.1243 - accuracy: 0.9621 - val_loss: 0.2030 - val_accuracy: 0.9476\n",
            "Epoch 76/100\n",
            "3362/3362 [==============================] - 9s 3ms/step - loss: 0.1250 - accuracy: 0.9620 - val_loss: 0.2083 - val_accuracy: 0.9465\n",
            "Epoch 77/100\n",
            "3362/3362 [==============================] - 11s 3ms/step - loss: 0.1229 - accuracy: 0.9629 - val_loss: 0.2074 - val_accuracy: 0.9458\n",
            "Epoch 78/100\n",
            "3362/3362 [==============================] - 11s 3ms/step - loss: 0.1230 - accuracy: 0.9625 - val_loss: 0.2094 - val_accuracy: 0.9457\n",
            "Epoch 79/100\n",
            "3362/3362 [==============================] - 9s 3ms/step - loss: 0.1234 - accuracy: 0.9631 - val_loss: 0.2128 - val_accuracy: 0.9470\n",
            "Epoch 80/100\n",
            "3362/3362 [==============================] - 11s 3ms/step - loss: 0.1217 - accuracy: 0.9636 - val_loss: 0.2222 - val_accuracy: 0.9427\n",
            "Epoch 81/100\n",
            "3362/3362 [==============================] - 10s 3ms/step - loss: 0.1212 - accuracy: 0.9633 - val_loss: 0.2322 - val_accuracy: 0.9369\n",
            "Epoch 82/100\n",
            "3362/3362 [==============================] - 12s 4ms/step - loss: 0.1212 - accuracy: 0.9632 - val_loss: 0.2062 - val_accuracy: 0.9459\n",
            "Epoch 83/100\n",
            "3362/3362 [==============================] - 9s 3ms/step - loss: 0.1226 - accuracy: 0.9627 - val_loss: 0.2226 - val_accuracy: 0.9442\n",
            "Epoch 84/100\n",
            "3362/3362 [==============================] - 11s 3ms/step - loss: 0.1196 - accuracy: 0.9634 - val_loss: 0.2177 - val_accuracy: 0.9469\n",
            "Epoch 85/100\n",
            "3362/3362 [==============================] - 10s 3ms/step - loss: 0.1199 - accuracy: 0.9637 - val_loss: 0.2213 - val_accuracy: 0.9455\n",
            "Epoch 86/100\n",
            "3362/3362 [==============================] - 9s 3ms/step - loss: 0.1196 - accuracy: 0.9641 - val_loss: 0.2221 - val_accuracy: 0.9462\n",
            "Epoch 87/100\n",
            "3362/3362 [==============================] - 11s 3ms/step - loss: 0.1196 - accuracy: 0.9642 - val_loss: 0.2148 - val_accuracy: 0.9478\n",
            "Epoch 88/100\n",
            "3362/3362 [==============================] - 10s 3ms/step - loss: 0.1193 - accuracy: 0.9637 - val_loss: 0.2176 - val_accuracy: 0.9465\n",
            "Epoch 89/100\n",
            "3362/3362 [==============================] - 9s 3ms/step - loss: 0.1203 - accuracy: 0.9636 - val_loss: 0.2245 - val_accuracy: 0.9443\n",
            "Epoch 90/100\n",
            "3362/3362 [==============================] - 11s 3ms/step - loss: 0.1187 - accuracy: 0.9639 - val_loss: 0.2229 - val_accuracy: 0.9456\n",
            "Epoch 91/100\n",
            "3362/3362 [==============================] - 11s 3ms/step - loss: 0.1189 - accuracy: 0.9637 - val_loss: 0.2365 - val_accuracy: 0.9411\n",
            "Epoch 92/100\n",
            "3362/3362 [==============================] - 9s 3ms/step - loss: 0.1181 - accuracy: 0.9644 - val_loss: 0.2205 - val_accuracy: 0.9467\n",
            "Epoch 93/100\n",
            "3362/3362 [==============================] - 11s 3ms/step - loss: 0.1168 - accuracy: 0.9645 - val_loss: 0.2278 - val_accuracy: 0.9445\n",
            "Epoch 94/100\n",
            "3362/3362 [==============================] - 11s 3ms/step - loss: 0.1170 - accuracy: 0.9650 - val_loss: 0.2445 - val_accuracy: 0.9380\n",
            "Epoch 95/100\n",
            "3362/3362 [==============================] - 9s 3ms/step - loss: 0.1167 - accuracy: 0.9652 - val_loss: 0.2178 - val_accuracy: 0.9464\n",
            "Epoch 96/100\n",
            "3362/3362 [==============================] - 11s 3ms/step - loss: 0.1159 - accuracy: 0.9649 - val_loss: 0.2340 - val_accuracy: 0.9425\n",
            "Epoch 97/100\n",
            "3362/3362 [==============================] - 11s 3ms/step - loss: 0.1166 - accuracy: 0.9648 - val_loss: 0.2206 - val_accuracy: 0.9456\n",
            "Epoch 98/100\n",
            "3362/3362 [==============================] - 9s 3ms/step - loss: 0.1169 - accuracy: 0.9649 - val_loss: 0.2271 - val_accuracy: 0.9459\n",
            "Epoch 99/100\n",
            "3362/3362 [==============================] - 11s 3ms/step - loss: 0.1143 - accuracy: 0.9656 - val_loss: 0.2263 - val_accuracy: 0.9455\n",
            "Epoch 100/100\n",
            "3362/3362 [==============================] - 10s 3ms/step - loss: 0.1162 - accuracy: 0.9652 - val_loss: 0.2400 - val_accuracy: 0.9414\n"
          ]
        }
      ]
    },
    {
      "cell_type": "code",
      "source": [
        "# Test\n",
        "predictions = model.predict(X_test)\n",
        "predicted_classes = np.argmax(predictions, axis=1)\n",
        "\n",
        "y_test_one_hot = to_categorical(y_test, num_classes=13)\n",
        "y_test_labels = np.argmax(y_test_one_hot, axis=1)\n",
        "\n",
        "accuracy = accuracy_score(y_test_labels, predicted_classes)\n",
        "print(f'Accuracy: {accuracy}')\n",
        "\n",
        "# Evaluate\n",
        "print(\"Confusion Matrix: \\n\", metrics.confusion_matrix(y_test_labels, predicted_classes))\n",
        "print(\"Classification Report \\n\", metrics.classification_report(y_test_labels, predicted_classes, digits=3))"
      ],
      "metadata": {
        "id": "AW0QK87JoE_h",
        "colab": {
          "base_uri": "https://localhost:8080/"
        },
        "outputId": "74bdee41-9ba4-474e-93f9-8629b6426f4c"
      },
      "execution_count": null,
      "outputs": [
        {
          "output_type": "stream",
          "name": "stdout",
          "text": [
            "841/841 [==============================] - 2s 2ms/step\n",
            "Accuracy: 0.9414280401636296\n",
            "Confusion Matrix: \n",
            " [[1451   44   40   26   97  100   41   41   57   78   31   24   48]\n",
            " [   1 2034    0    0    0    0    0    0    0    0    0    0    0]\n",
            " [   0    0 2090    0    0    0    0    0    0    0    0    0    0]\n",
            " [  14    0    0 2091    0    0    0    0    0    0    0    0    0]\n",
            " [  51    0    0    0 2016   12    2    1    4    0    1    0    1]\n",
            " [  87    0    0    0   18 1901    1    2   10    0    0    0    9]\n",
            " [  64    4    0    0    2   10 2013    3    1    0    0    0    0]\n",
            " [  21    1    0    0    0    3   15 2073    6    1    0    0    0]\n",
            " [  66    0    0    0    4   11    7    2 1955    0    1    0    2]\n",
            " [  22    0    0    0    0    2    0    3    1 2043    1    0    0]\n",
            " [  19    0    0    0    1    0    0    0    0    1 1930  113   28]\n",
            " [  25    0    0    3    3    0    0    0    0    0   61 1878   16]\n",
            " [ 103    0    0    0    8    7    1    0    1    0   47   44 1840]]\n",
            "Classification Report \n",
            "               precision    recall  f1-score   support\n",
            "\n",
            "           0      0.754     0.698     0.725      2078\n",
            "           1      0.976     1.000     0.988      2035\n",
            "           2      0.981     1.000     0.991      2090\n",
            "           3      0.986     0.993     0.990      2105\n",
            "           4      0.938     0.966     0.952      2088\n",
            "           5      0.929     0.937     0.933      2028\n",
            "           6      0.968     0.960     0.964      2097\n",
            "           7      0.976     0.978     0.977      2120\n",
            "           8      0.961     0.955     0.958      2048\n",
            "           9      0.962     0.986     0.974      2072\n",
            "          10      0.931     0.923     0.927      2092\n",
            "          11      0.912     0.946     0.929      1986\n",
            "          12      0.947     0.897     0.921      2051\n",
            "\n",
            "    accuracy                          0.941     26890\n",
            "   macro avg      0.940     0.941     0.941     26890\n",
            "weighted avg      0.940     0.941     0.941     26890\n",
            "\n"
          ]
        }
      ]
    },
    {
      "cell_type": "markdown",
      "source": [
        "Logistic Regression"
      ],
      "metadata": {
        "id": "CcbBYxllL49F"
      }
    },
    {
      "cell_type": "code",
      "source": [
        "# Model\n",
        "clf = LogisticRegression()\n",
        "\n",
        "# Train\n",
        "clf.fit(X_train,y_train)\n",
        "\n",
        "# Test\n",
        "y_pred = clf.predict(X_test)\n",
        "accuracy = accuracy_score(y_test, y_pred)\n",
        "print(f'Accuracy: {accuracy}')\n",
        "\n",
        "# Evaluate\n",
        "print(\"Confusion Matrix: \\n\", metrics.confusion_matrix(y_test, y_pred))\n",
        "print(\"Classification Report \\n\", metrics.classification_report(y_test, y_pred, digits=3))"
      ],
      "metadata": {
        "colab": {
          "base_uri": "https://localhost:8080/"
        },
        "id": "onzt_tJXL5q0",
        "outputId": "e868f7f9-077a-4d74-fe45-89455837b830"
      },
      "execution_count": null,
      "outputs": [
        {
          "output_type": "stream",
          "name": "stdout",
          "text": [
            "Accuracy: 0.5427668278170323\n",
            "Confusion Matrix: \n",
            " [[ 112  224  203   45  176   77  253  182  214  174  121   93  204]\n",
            " [   0 1410    0    0  210    0  415    0    0    0    0    0    0]\n",
            " [ 134    0 1079    0    0  162    0  207    0  231    0  205   72]\n",
            " [   0    0    0 2105    0    0    0    0    0    0    0    0    0]\n",
            " [  54  211   13    2 1061  181  170    2  260    0    1   35   98]\n",
            " [ 139  154   62    9  394  567  163   32  269   79   32   27  101]\n",
            " [  94  329    3    0   88    1 1344    3  235    0    0    0    0]\n",
            " [  37  232  270    0   64   11  139 1175   13  134    0   14   31]\n",
            " [  59  103    2    0   95  196  437    1 1056   23   22   16   38]\n",
            " [   8    0    3    0    5    0    4   71  125 1853    0    0    3]\n",
            " [  23    0  102    5   16   27   12   12   16    6 1132  392  349]\n",
            " [  33    2  182   21   62   83   35   45   56   13  144 1193  117]\n",
            " [  96   26  157   14  121   17  128  113   51   26  470  324  508]]\n",
            "Classification Report \n",
            "               precision    recall  f1-score   support\n",
            "\n",
            "           0      0.142     0.054     0.078      2078\n",
            "           1      0.524     0.693     0.597      2035\n",
            "           2      0.520     0.516     0.518      2090\n",
            "           3      0.956     1.000     0.978      2105\n",
            "           4      0.463     0.508     0.484      2088\n",
            "           5      0.429     0.280     0.339      2028\n",
            "           6      0.434     0.641     0.517      2097\n",
            "           7      0.638     0.554     0.593      2120\n",
            "           8      0.460     0.516     0.486      2048\n",
            "           9      0.730     0.894     0.804      2072\n",
            "          10      0.589     0.541     0.564      2092\n",
            "          11      0.519     0.601     0.557      1986\n",
            "          12      0.334     0.248     0.284      2051\n",
            "\n",
            "    accuracy                          0.543     26890\n",
            "   macro avg      0.518     0.542     0.523     26890\n",
            "weighted avg      0.519     0.543     0.524     26890\n",
            "\n"
          ]
        },
        {
          "output_type": "stream",
          "name": "stderr",
          "text": [
            "/usr/local/lib/python3.10/dist-packages/sklearn/linear_model/_logistic.py:458: ConvergenceWarning: lbfgs failed to converge (status=1):\n",
            "STOP: TOTAL NO. of ITERATIONS REACHED LIMIT.\n",
            "\n",
            "Increase the number of iterations (max_iter) or scale the data as shown in:\n",
            "    https://scikit-learn.org/stable/modules/preprocessing.html\n",
            "Please also refer to the documentation for alternative solver options:\n",
            "    https://scikit-learn.org/stable/modules/linear_model.html#logistic-regression\n",
            "  n_iter_i = _check_optimize_result(\n"
          ]
        }
      ]
    },
    {
      "cell_type": "markdown",
      "source": [
        "Linear Regression"
      ],
      "metadata": {
        "id": "9I8EBrsqGiZW"
      }
    },
    {
      "cell_type": "code",
      "source": [
        "# Model\n",
        "model = LinearRegression()\n",
        "\n",
        "# Train\n",
        "model.fit(X_train, y_train)\n",
        "\n",
        "# Test\n",
        "y_pred = model.predict(X_test)\n",
        "\n",
        "# Evaluate\n",
        "mae = mean_absolute_error(y_test, y_pred)\n",
        "mse = mean_squared_error(y_test, y_pred)\n",
        "print('MAE:', mae)\n",
        "print('MSE:', mse)\n",
        "\n",
        "Evaluate(y_test_labels, predicted_classes, model)"
      ],
      "metadata": {
        "colab": {
          "base_uri": "https://localhost:8080/"
        },
        "id": "XCdBlBh3Ib1F",
        "outputId": "e8056fc9-d8c0-4d9b-a8df-49d17762a8fb"
      },
      "execution_count": null,
      "outputs": [
        {
          "output_type": "stream",
          "name": "stdout",
          "text": [
            "MAE: 2.657664115239908\n",
            "MSE: 10.589811063749549\n",
            "Confusion Matrix: \n",
            " [[1451   44   40   26   97  100   41   41   57   78   31   24   48]\n",
            " [   1 2034    0    0    0    0    0    0    0    0    0    0    0]\n",
            " [   0    0 2090    0    0    0    0    0    0    0    0    0    0]\n",
            " [  14    0    0 2091    0    0    0    0    0    0    0    0    0]\n",
            " [  51    0    0    0 2016   12    2    1    4    0    1    0    1]\n",
            " [  87    0    0    0   18 1901    1    2   10    0    0    0    9]\n",
            " [  64    4    0    0    2   10 2013    3    1    0    0    0    0]\n",
            " [  21    1    0    0    0    3   15 2073    6    1    0    0    0]\n",
            " [  66    0    0    0    4   11    7    2 1955    0    1    0    2]\n",
            " [  22    0    0    0    0    2    0    3    1 2043    1    0    0]\n",
            " [  19    0    0    0    1    0    0    0    0    1 1930  113   28]\n",
            " [  25    0    0    3    3    0    0    0    0    0   61 1878   16]\n",
            " [ 103    0    0    0    8    7    1    0    1    0   47   44 1840]]\n",
            "Classification Report \n",
            "               precision    recall  f1-score   support\n",
            "\n",
            "           0      0.754     0.698     0.725      2078\n",
            "           1      0.976     1.000     0.988      2035\n",
            "           2      0.981     1.000     0.991      2090\n",
            "           3      0.986     0.993     0.990      2105\n",
            "           4      0.938     0.966     0.952      2088\n",
            "           5      0.929     0.937     0.933      2028\n",
            "           6      0.968     0.960     0.964      2097\n",
            "           7      0.976     0.978     0.977      2120\n",
            "           8      0.961     0.955     0.958      2048\n",
            "           9      0.962     0.986     0.974      2072\n",
            "          10      0.931     0.923     0.927      2092\n",
            "          11      0.912     0.946     0.929      1986\n",
            "          12      0.947     0.897     0.921      2051\n",
            "\n",
            "    accuracy                          0.941     26890\n",
            "   macro avg      0.940     0.941     0.941     26890\n",
            "weighted avg      0.940     0.941     0.941     26890\n",
            "\n",
            "Cross-Validation  0.2394625794015087\n"
          ]
        },
        {
          "output_type": "execute_result",
          "data": {
            "text/plain": [
              "array([0.23672677, 0.23858611, 0.24631521, 0.23829972, 0.23738508])"
            ]
          },
          "metadata": {},
          "execution_count": 16
        }
      ]
    },
    {
      "cell_type": "code",
      "source": [],
      "metadata": {
        "id": "ILqsw09QvVx5"
      },
      "execution_count": null,
      "outputs": []
    }
  ]
}